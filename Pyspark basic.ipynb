{
 "cells": [
  {
   "cell_type": "markdown",
   "metadata": {
    "id": "YE7iRSKOt2PS"
   },
   "source": [
    "#Pyspark Dataframe Basics\n",
    "1. importing pyspark\n",
    "2. start spark session\n",
    "3. connect to drive\n",
    "4. read the dataset\n",
    "5. Check the datatype of the dataframe\n",
    "6. check the summary"
   ]
  },
  {
   "cell_type": "code",
   "execution_count": null,
   "metadata": {
    "colab": {
     "base_uri": "https://localhost:8080/"
    },
    "executionInfo": {
     "elapsed": 9828,
     "status": "ok",
     "timestamp": 1750307706871,
     "user": {
      "displayName": "Gaurav Kumar",
      "userId": "10768966678235614917"
     },
     "user_tz": -330
    },
    "id": "qIGMyvEHuDhz",
    "outputId": "cb201076-b121-4e65-a25a-5a7c1b42c952"
   },
   "outputs": [
    {
     "name": "stdout",
     "output_type": "stream",
     "text": [
      "Requirement already satisfied: pyspark in /usr/local/lib/python3.11/dist-packages (3.5.1)\n",
      "Requirement already satisfied: py4j==0.10.9.7 in /usr/local/lib/python3.11/dist-packages (from pyspark) (0.10.9.7)\n"
     ]
    }
   ],
   "source": [
    "# importing\n",
    "!pip install pyspark"
   ]
  },
  {
   "cell_type": "code",
   "execution_count": null,
   "metadata": {
    "id": "O1HqjqbauIbs"
   },
   "outputs": [],
   "source": [
    "import pyspark"
   ]
  },
  {
   "cell_type": "code",
   "execution_count": null,
   "metadata": {
    "id": "hjhVfKHxuV9x"
   },
   "outputs": [],
   "source": [
    "# start spark session\n",
    "from pyspark.sql import SparkSession\n",
    "spark = SparkSession.builder.appName(\"pyspark_1\").getOrCreate()"
   ]
  },
  {
   "cell_type": "code",
   "execution_count": null,
   "metadata": {
    "id": "gpN-eOhEunVy"
   },
   "outputs": [],
   "source": [
    "# read the dataset\n",
    "df = spark.read.csv(\"/content/drive/MyDrive/student_details_pyspark.csv\") #path of the file"
   ]
  },
  {
   "cell_type": "code",
   "execution_count": null,
   "metadata": {
    "colab": {
     "base_uri": "https://localhost:8080/"
    },
    "id": "2arSr5yXvWw2",
    "outputId": "80d46167-1a47-47f4-b599-cf7c7607076d"
   },
   "outputs": [
    {
     "name": "stdout",
     "output_type": "stream",
     "text": [
      "+------------+---+-----+\n",
      "|         _c0|_c1|  _c2|\n",
      "+------------+---+-----+\n",
      "|Student_name|Age|Grade|\n",
      "|     Avinash| 22|   80|\n",
      "|     Chandan| 18|   90|\n",
      "|       Richa| 20|   85|\n",
      "+------------+---+-----+\n",
      "\n"
     ]
    }
   ],
   "source": [
    "df.show()"
   ]
  },
  {
   "cell_type": "code",
   "execution_count": null,
   "metadata": {
    "id": "VHJ1Wm4XEMET"
   },
   "outputs": [],
   "source": [
    "from google.colab import drive   #optional step\n",
    "drive.mount('/content/drive')"
   ]
  },
  {
   "cell_type": "code",
   "execution_count": null,
   "metadata": {
    "id": "Ji0SyM78vxwr"
   },
   "outputs": [],
   "source": [
    "df = spark.read.option(\"header\", True).csv(\"/content/drive/MyDrive/student_details_pyspark.csv\")"
   ]
  },
  {
   "cell_type": "code",
   "execution_count": null,
   "metadata": {
    "colab": {
     "base_uri": "https://localhost:8080/"
    },
    "id": "esEYQHwIwBt8",
    "outputId": "d7c67543-7ba1-44af-e118-e66c6996c7dc"
   },
   "outputs": [
    {
     "name": "stdout",
     "output_type": "stream",
     "text": [
      "+------------+---+-----+\n",
      "|Student_name|Age|Grade|\n",
      "+------------+---+-----+\n",
      "|     Avinash| 22|   80|\n",
      "|     Chandan| 18|   90|\n",
      "|       Richa| 20|   85|\n",
      "+------------+---+-----+\n",
      "\n"
     ]
    }
   ],
   "source": [
    "df.show()"
   ]
  },
  {
   "cell_type": "code",
   "execution_count": null,
   "metadata": {
    "colab": {
     "base_uri": "https://localhost:8080/"
    },
    "id": "FkhM3PO9wDAe",
    "outputId": "bf70ceb5-6319-40e3-8353-2c6c2a82ea21"
   },
   "outputs": [
    {
     "name": "stdout",
     "output_type": "stream",
     "text": [
      "root\n",
      " |-- Student_name: string (nullable = true)\n",
      " |-- Age: string (nullable = true)\n",
      " |-- Grade: string (nullable = true)\n",
      "\n"
     ]
    }
   ],
   "source": [
    "# check the datatype\n",
    "df.printSchema()"
   ]
  },
  {
   "cell_type": "code",
   "execution_count": null,
   "metadata": {
    "id": "Y-xyeVrhwNvu"
   },
   "outputs": [],
   "source": [
    "df = spark.read.option(\"header\", True).option(\"inferschema\", True).csv(\"/content/drive/MyDrive/student_details_pyspark.csv\")"
   ]
  },
  {
   "cell_type": "code",
   "execution_count": null,
   "metadata": {
    "colab": {
     "base_uri": "https://localhost:8080/"
    },
    "id": "wwc1zlcewiNl",
    "outputId": "48cf0b88-727f-4385-c5ad-1503a5380ff7"
   },
   "outputs": [
    {
     "name": "stdout",
     "output_type": "stream",
     "text": [
      "root\n",
      " |-- Student_name: string (nullable = true)\n",
      " |-- Age: integer (nullable = true)\n",
      " |-- Grade: integer (nullable = true)\n",
      "\n"
     ]
    }
   ],
   "source": [
    "df.printSchema()"
   ]
  },
  {
   "cell_type": "code",
   "execution_count": null,
   "metadata": {
    "colab": {
     "base_uri": "https://localhost:8080/"
    },
    "id": "-cQJuHQNwkxW",
    "outputId": "fb4b0e66-9498-48cb-9c95-6ded6152ca69"
   },
   "outputs": [
    {
     "name": "stdout",
     "output_type": "stream",
     "text": [
      "+-------+------------+----+-----+\n",
      "|summary|Student_name| Age|Grade|\n",
      "+-------+------------+----+-----+\n",
      "|  count|           3|   3|    3|\n",
      "|   mean|        null|20.0| 85.0|\n",
      "| stddev|        null| 2.0|  5.0|\n",
      "|    min|     Avinash|  18|   80|\n",
      "|    max|       Richa|  22|   90|\n",
      "+-------+------------+----+-----+\n",
      "\n"
     ]
    }
   ],
   "source": [
    "# check the sumary\n",
    "df.describe().show()"
   ]
  },
  {
   "cell_type": "code",
   "execution_count": null,
   "metadata": {
    "colab": {
     "base_uri": "https://localhost:8080/"
    },
    "id": "ItULdeblwqsS",
    "outputId": "4c684492-c7cd-4115-ce9c-6d8ed4fce1b4"
   },
   "outputs": [
    {
     "name": "stdout",
     "output_type": "stream",
     "text": [
      "+-------+------------+----+-----+\n",
      "|summary|Student_name| Age|Grade|\n",
      "+-------+------------+----+-----+\n",
      "|  count|           3|   3|    3|\n",
      "|   mean|        null|20.0| 85.0|\n",
      "| stddev|        null| 2.0|  5.0|\n",
      "|    min|     Avinash|  18|   80|\n",
      "|    25%|        null|  18|   80|\n",
      "|    50%|        null|  20|   85|\n",
      "|    75%|        null|  22|   90|\n",
      "|    max|       Richa|  22|   90|\n",
      "+-------+------------+----+-----+\n",
      "\n"
     ]
    }
   ],
   "source": [
    "df.summary().show()"
   ]
  },
  {
   "cell_type": "code",
   "execution_count": null,
   "metadata": {
    "id": "6ROYSCtKwzou"
   },
   "outputs": [],
   "source": []
  }
 ],
 "metadata": {
  "colab": {
   "provenance": [
    {
     "file_id": "https://github.com/DataScienceWithArunesh/PySpark_Tutorial/blob/main/Pyspark_tutorial_part2.ipynb",
     "timestamp": 1747637992135
    }
   ]
  },
  "kernelspec": {
   "display_name": "Python 3 (ipykernel)",
   "language": "python",
   "name": "python3"
  },
  "language_info": {
   "codemirror_mode": {
    "name": "ipython",
    "version": 3
   },
   "file_extension": ".py",
   "mimetype": "text/x-python",
   "name": "python",
   "nbconvert_exporter": "python",
   "pygments_lexer": "ipython3",
   "version": "3.12.7"
  }
 },
 "nbformat": 4,
 "nbformat_minor": 4
}
